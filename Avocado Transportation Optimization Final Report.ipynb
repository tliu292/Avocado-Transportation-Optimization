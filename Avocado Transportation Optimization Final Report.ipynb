{
 "cells": [
  {
   "cell_type": "markdown",
   "metadata": {},
   "source": [
    "### CS/ECE/ISyE 524 &mdash; Introduction to Optimization &mdash; Spring 2020 ###\n",
    "\n",
    "# Avocado Transportation Optimization #\n",
    "\n",
    "#### Team 11: Tz-Ruei Liu (tliu292@wisc.edu), Hashim Hussain Aljarrash(aljarrash@wisc.edu), Zhenyu Zou (zzou24@wisc.edu)\n",
    "\n",
    "*****\n",
    "\n",
    "### Table of Contents\n",
    "\n",
    "1. [Introduction](#1.-Introduction)\n",
    "1. [Dataset](#2.-Dataset)\n",
    "1. [Mathematical Model](#3.-Mathematical-Model)\n",
    "  1. [Two restuarants from eight suppliers](#3.A.-Two-restuarants-from-eight-suppliers)\n",
    "  1. [Two restuarants from all suppliers](#3.B.-Two-restuarants-from-all-suppliers)\n",
    "  1. [Two restaurants from all suppliers with time constraint](#3.C.-Two-restuarants-from-all-suppliers-with-time-constraint)\n",
    "  1. [Optimal restaurant locations](#3.D.-Optimal-restaurant-locations)\n",
    "1. [Solution](#4.-Solution)\n",
    "  1. [Two restuarants from eight suppliers](#4.A.-Two-restuarants-from-eight-suppliers)\n",
    "  1. [Two restuarants from all suppliers](#4.B.-Two-restuarants-from-all-suppliers)\n",
    "  1. [Two restaurants from all suppliers with time constraint](#4.C.-Two-restuarants-from-all-suppliers-with-time-constraint)\n",
    "  1. [Optimal restaurant locations](#4.D.-Optimal-restaurant-locations)\n",
    "1. [Results and Discussion](#5.-Results-and-Discussion)\n",
    "  1. [Two restuarants from eight suppliers](#5.A.-Two-restuarants-from-eight-suppliers)\n",
    "  1. [Two restuarants from all suppliers](#5.B.-Two-restuarants-from-all-suppliers)\n",
    "  1. [Two restaurants from all suppliers with time constraint](#5.C.-Two-restuarants-from-all-suppliers-with-time-constraint)\n",
    "  1. [Optimal restaurant locations](#5.D.-Optimal-restaurant-locations)\n",
    "1. [Conclusion](#6.-Conclusion)\n",
    "  1. [Summary of findings](#6.A.-Summary-of-findings)\n",
    "  1. [Limitations](#6.B.-Limitations)\n",
    "  1. [Future directions](#6.C.-Future-directions)"
   ]
  },
  {
   "cell_type": "markdown",
   "metadata": {},
   "source": [
    "## 1. Introduction ##\n",
    "\n",
    "Avocados are stone fruit that grow in warm temperature. They have many health benefits; for instance, avocados are a great source of vitamins, including Vitamin C, E, K, and B-5, as well as nicain, magnesium, etc [[1](https://www.medicalnewstoday.com/articles/270406)]. For many US restaurants, avocados are very popular ingredients. There are even avocado-themed restaurants all over the states. Avocado Grill, a resturant located in West Palm Beach, Florida, is a popular avocado-themed restaurant. Its menu includes dishes like avocado vinaigrette and grilled avocado wedges; virtually all food in the menu uses avocado as the main ingredient [[2](https://www.rd.com/advice/travel/avocado-themed-restaurants/)]. Our team is also a big fan of avocados, so we were wondering how to apply the optimization models we learnt in class to this delicious food. \n",
    "\n",
    "This project, Avocado Transportation Optimization, aims to determine an optimal route of delivering avocado to restaurants that use avocados as their primary ingredient, while minimizing the total cost, including the cost of purchasing avocados and the cost of transportation from various locations.\n",
    "\n",
    "We start with a simple problem and expand the scale of the problem as we dive in. At the beginning phase, we suppose that our client only wants to open two restaurants in Madison, Wisconsin and Chicago, Illinois that heavily use avocado. We also restrict suppliers from nearby states. We would like to find where and how many avocados to import to the restaurants that minimizes the total cost.\n",
    "\n",
    "Next, we no longer restrict importing to nearby states and assume that suppliers are located all over the states. Again, we would like to find the minimum cost from suppliers to the two given restaurants.\n",
    "\n",
    "Then, we would add a time constraint and propose that the restaurants would like to import avocado in every fixed interval. For instance, real-life restaurants might need to import avocados at least once per month to make sure that avocados are fresh and can be delivered to the customers.\n",
    "\n",
    "Last but not least, it is also interesting to see where to open the restaurants that minimize the total cost, if the client did not decide the restaurant locations yet.\n",
    "\n",
    "This report will walk the client through many iterations of the problem, with increasing complexity, in order to provide guidance for restaurants on how to import avocado from the cheapest locations. This model can also be applied to restaurants that use other food ingredients, not only avocados."
   ]
  },
  {
   "cell_type": "markdown",
   "metadata": {},
   "source": [
    "## 2. Dataset ##\n",
    "\n",
    "This project uses a dataset from Kaggle -- Avocado Prices (https://www.kaggle.com/neuromusic/avocado-prices). It contains 14 columns and about 18000 rows. This dataset holds historical data on avocado prices and sales volume in multiple US market. The table below shows the column names and their info.  \n",
    "\n",
    "Specifically, the column AveragePrice indicates the average price of a single avocado. According to the USDA, an average-sized avocado weighs about 136 grams (equivalently to 0.3 pounds); and we would assume AveragePrice measures the average price of a 0.3 pound avocado."
   ]
  },
  {
   "cell_type": "code",
   "execution_count": 1,
   "metadata": {},
   "outputs": [
    {
     "data": {
      "text/html": [
       "<table class=\"data-frame\"><thead><tr><th></th><th>variable</th><th>mean</th><th>min</th><th>median</th><th>max</th><th>nunique</th><th>nmissing</th></tr><tr><th></th><th>Symbol</th><th>Union…</th><th>Any</th><th>Union…</th><th>Any</th><th>Union…</th><th>Nothing</th></tr></thead><tbody><p>14 rows × 8 columns (omitted printing of 1 columns)</p><tr><th>1</th><td>Week</td><td>24.2322</td><td>0</td><td>24.0</td><td>52</td><td></td><td></td></tr><tr><th>2</th><td>Date</td><td></td><td>1/1/2017</td><td></td><td>9/6/2015</td><td>169</td><td></td></tr><tr><th>3</th><td>AveragePrice</td><td>1.40598</td><td>0.44</td><td>1.37</td><td>3.25</td><td></td><td></td></tr><tr><th>4</th><td>TotalVolume</td><td>850644.0</td><td>84.56</td><td>1.07377e5</td><td>6.25056e7</td><td></td><td></td></tr><tr><th>5</th><td>4046</td><td>2.93008e5</td><td>0.0</td><td>8645.3</td><td>2.27436e7</td><td></td><td></td></tr><tr><th>6</th><td>4225</td><td>2.95155e5</td><td>0.0</td><td>29061.0</td><td>2.04706e7</td><td></td><td></td></tr><tr><th>7</th><td>4770</td><td>22839.7</td><td>0.0</td><td>184.99</td><td>2.54644e6</td><td></td><td></td></tr><tr><th>8</th><td>TotalBags</td><td>2.39639e5</td><td>0.0</td><td>39743.8</td><td>1.93731e7</td><td></td><td></td></tr><tr><th>9</th><td>SmallBags</td><td>1.82195e5</td><td>0.0</td><td>26362.8</td><td>1.33846e7</td><td></td><td></td></tr><tr><th>10</th><td>LargeBags</td><td>54338.1</td><td>0.0</td><td>2647.71</td><td>5.7191e6</td><td></td><td></td></tr><tr><th>11</th><td>XLargeBags</td><td>3106.43</td><td>0.0</td><td>0.0</td><td>5.51694e5</td><td></td><td></td></tr><tr><th>12</th><td>type</td><td></td><td>conventional</td><td></td><td>organic</td><td>2</td><td></td></tr><tr><th>13</th><td>year</td><td>2016.15</td><td>2015</td><td>2016.0</td><td>2018</td><td></td><td></td></tr><tr><th>14</th><td>region</td><td></td><td>Albany</td><td></td><td>WestTexNewMexico</td><td>54</td><td></td></tr></tbody></table>"
      ],
      "text/latex": [
       "\\begin{tabular}{r|cccccccc}\n",
       "\t& variable & mean & min & median & max & nunique & nmissing & \\\\\n",
       "\t\\hline\n",
       "\t& Symbol & Union… & Any & Union… & Any & Union… & Nothing & \\\\\n",
       "\t\\hline\n",
       "\t1 & Week & 24.2322 & 0 & 24.0 & 52 &  &  & $\\dots$ \\\\\n",
       "\t2 & Date &  & 1/1/2017 &  & 9/6/2015 & 169 &  & $\\dots$ \\\\\n",
       "\t3 & AveragePrice & 1.40598 & 0.44 & 1.37 & 3.25 &  &  & $\\dots$ \\\\\n",
       "\t4 & TotalVolume & 850644.0 & 84.56 & 1.07377e5 & 6.25056e7 &  &  & $\\dots$ \\\\\n",
       "\t5 & 4046 & 2.93008e5 & 0.0 & 8645.3 & 2.27436e7 &  &  & $\\dots$ \\\\\n",
       "\t6 & 4225 & 2.95155e5 & 0.0 & 29061.0 & 2.04706e7 &  &  & $\\dots$ \\\\\n",
       "\t7 & 4770 & 22839.7 & 0.0 & 184.99 & 2.54644e6 &  &  & $\\dots$ \\\\\n",
       "\t8 & TotalBags & 2.39639e5 & 0.0 & 39743.8 & 1.93731e7 &  &  & $\\dots$ \\\\\n",
       "\t9 & SmallBags & 1.82195e5 & 0.0 & 26362.8 & 1.33846e7 &  &  & $\\dots$ \\\\\n",
       "\t10 & LargeBags & 54338.1 & 0.0 & 2647.71 & 5.7191e6 &  &  & $\\dots$ \\\\\n",
       "\t11 & XLargeBags & 3106.43 & 0.0 & 0.0 & 5.51694e5 &  &  & $\\dots$ \\\\\n",
       "\t12 & type &  & conventional &  & organic & 2 &  & $\\dots$ \\\\\n",
       "\t13 & year & 2016.15 & 2015 & 2016.0 & 2018 &  &  & $\\dots$ \\\\\n",
       "\t14 & region &  & Albany &  & WestTexNewMexico & 54 &  & $\\dots$ \\\\\n",
       "\\end{tabular}\n"
      ],
      "text/plain": [
       "14×8 DataFrame. Omitted printing of 3 columns\n",
       "│ Row │ variable     │ mean      │ min          │ median    │ max              │\n",
       "│     │ \u001b[90mSymbol\u001b[39m       │ \u001b[90mUnion…\u001b[39m    │ \u001b[90mAny\u001b[39m          │ \u001b[90mUnion…\u001b[39m    │ \u001b[90mAny\u001b[39m              │\n",
       "├─────┼──────────────┼───────────┼──────────────┼───────────┼──────────────────┤\n",
       "│ 1   │ Week         │ 24.2322   │ 0            │ 24.0      │ 52               │\n",
       "│ 2   │ Date         │           │ 1/1/2017     │           │ 9/6/2015         │\n",
       "│ 3   │ AveragePrice │ 1.40598   │ 0.44         │ 1.37      │ 3.25             │\n",
       "│ 4   │ TotalVolume  │ 850644.0  │ 84.56        │ 1.07377e5 │ 6.25056e7        │\n",
       "│ 5   │ 4046         │ 2.93008e5 │ 0.0          │ 8645.3    │ 2.27436e7        │\n",
       "│ 6   │ 4225         │ 2.95155e5 │ 0.0          │ 29061.0   │ 2.04706e7        │\n",
       "│ 7   │ 4770         │ 22839.7   │ 0.0          │ 184.99    │ 2.54644e6        │\n",
       "│ 8   │ TotalBags    │ 2.39639e5 │ 0.0          │ 39743.8   │ 1.93731e7        │\n",
       "│ 9   │ SmallBags    │ 1.82195e5 │ 0.0          │ 26362.8   │ 1.33846e7        │\n",
       "│ 10  │ LargeBags    │ 54338.1   │ 0.0          │ 2647.71   │ 5.7191e6         │\n",
       "│ 11  │ XLargeBags   │ 3106.43   │ 0.0          │ 0.0       │ 5.51694e5        │\n",
       "│ 12  │ type         │           │ conventional │           │ organic          │\n",
       "│ 13  │ year         │ 2016.15   │ 2015         │ 2016.0    │ 2018             │\n",
       "│ 14  │ region       │           │ Albany       │           │ WestTexNewMexico │"
      ]
     },
     "execution_count": 1,
     "metadata": {},
     "output_type": "execute_result"
    }
   ],
   "source": [
    "using JuMP, Clp, CSV, DataFrames, NamedArrays, Cbc, Gurobi, Ipopt\n",
    "data = CSV.read(\"avocados_dataset.csv\");\n",
    "model_results = Dict()\n",
    "describe(data)"
   ]
  },
  {
   "cell_type": "markdown",
   "metadata": {},
   "source": [
    "## 3. Mathematical Model ##\n",
    "\n",
    "$\\textbf{Model Type: Minimum Cost Network Flow}$ \n",
    "\n",
    "All variants of this project apply minimum cost network flow. This model seeks to find the minimum cost of transporting avocados between any source-sink combination provided to it. \n",
    "\n",
    "### 3.A. Two restuarants from eight suppliers ###\n",
    "\n",
    "$\\textbf{Parameters and Assumptions}$ \n",
    "\n",
    "The parameters include the number of nodes, N = 10, in which **8 of them are supply nodes and 2 of them are demand nodes**. The supply nodes include Chicago, St Louis, Indianoplis, Louisville, Columbus, Cincinnati, Grand Rapids, and Detroit. (Sources that are in nearby states) The demand nodes are the two restaurants.\n",
    "\n",
    "It is initially assumed that the client only wants to open **two restaurants**; one in **Madison, Wisconsin** and one in **Chicago, Illinois**. And both restuarants heavily use avocados as their primary food ingredient. \n",
    "\n",
    "For the capacity constraint, according to the ABC news, a typical SUV can carry about 1000 pounds of weight at maximum. Thus, we would assume that when transporting avocados from supplier to restaurant, the maximum load capacity/supply is **1000 pounds** [[3](https://abcnews.go.com/2020/story?id=124168)].\n",
    "\n",
    "For avocado supply, we would vary the amount of avocado that the each supplier can supply to a restaurant and see how transportation route might change, since we don't know the exact supply of avocados at each supplier location. We would try **800 pounds, 1000 pounds, and unlimited supply**.\n",
    "\n",
    "For avocado demand, it is assumed that the restaurant imports avocados from other states once a month, and it imports avocados that's enough for one month's demand. It is known that an all-avocado resturant in New York city is running 650 pounds of avocados from Monday to Friday. If weekends are included, about 1000 pounds of avocados are needed per week [[4](https://hellogiggles.com/lifestyle/food-drink/avacado-restaurant/)]. Thus, it's assumed that 4000 pounds of avocados are imported for an avocado-themed resturant in New York City. However, for the restuarant in Madison, Wisconsin, the demand would be much lower as it's less crowded than the New York City; thus, we would assume about **2000 pounds** of avocados are demanded monthly. For the restaurant in Chicago, Illinois, we would assume that about **3000 pounds** are demanded monthly, since the restaurant in Chicago would have much more customers than Madison.\n",
    "\n",
    "For the cost over transportation, it's known that for a typical car, each mile costs on average 13.88 cents. Thus, the cost over transportation would be distance multiplied by **0.1388 dollars**. For the distance between any two locations, each location's longitude and latitude coordinates are first found on Google Map, and the Haversine formula is then applied to find the distance between two locations in miles.\n",
    "\n",
    "$\\textbf{Decision Variables}$ \n",
    "\n",
    "The decision variables are the number of avocados transported between supplier and restaurant: $x_{ij}$, where $i$ represents the $i^{th}$ avocado supplier and $j$ represents the $j^{th}$ restaurant. In this case, there are 8 avocado suppliers transporting to a total of 2 restaurants. In addition, the number of avocados transported between demand and supply nodes are non-negative.\n",
    "  \n",
    "$$x_{ij} \\ge 0$$\n",
    "$$i=1,...,8$$ $$j=1,2$$\n",
    "\n",
    "$\\textbf{Constraints}$ \n",
    "\n",
    "It is assumed that the maximum load capacity betweeen supplier and restaurant is 1000 pounds.\n",
    "\n",
    "$$x_{ij} \\le 1000$$\n",
    "$$i=1,...,8$$ $$j=1,2$$\n",
    "\n",
    "Suppliers have varying supply limits. We would try three different options.\n",
    "\n",
    "$$ \\sum_{j=1}^2 x_{ij} = 800 \\text { } \\forall i=1,..,8 $$ $$or$$\n",
    "$$ \\sum_{j=1}^2 x_{ij} = 1000 \\text { } \\forall i=1,..,8 $$ $$or$$\n",
    "$$ Unlimited $$\n",
    "\n",
    "Restuarants have known demand limits. It is assumed that one demands 2000 pounds and one demands 3000 pounds.\n",
    "\n",
    "$$ \\sum_{i=1}^8 x_{i1} = 2000, \\sum_{i=1}^8 x_{i2} = 3000 $$\n",
    "\n",
    "$\\textbf{Objective}$ \n",
    "\n",
    "$$ Minimize \\sum_{i=1}^8 \\sum_{j=1}^2 d_{ij}*avgPPM + x_{ij}*c_i $$\n",
    "\n",
    "We assume the total cost is the sum of two costs. One cost is the transportation cost between the $i^{th}$ supplier and the $j^{th}$ restuarant; and the other cost is the amount paid to buy certain amount of avocados from the $i^{th}$ supplier. $d_{ij}$ represents the distance between the $i^{th}$ supplier to the $j^{th}$ restaurant in miles; $avgPPM$ represents the average fuel price in dollars per mile, or 0.1388 in our assumption; $c_i$ represents the average cost of avocado in dollars per pound from the $i^{th}$ supplier.\n",
    "\n",
    "\n",
    "### 3.B. Two restuarants from all suppliers ###\n",
    "\n",
    "$\\textbf{Parameters and Assumptions}$ \n",
    "\n",
    "Parameters in 3.B. are similar to paramters in 3.A., and the only difference is the number of suppliers. The parameters include the number of nodes, N = 50, in which **48 of them are supply nodes and 2 of them are demand nodes**. The supply nodes include Albany, Atlanta, Baltimore Washington, Boise, Boston, Buffalo Rochester, California, Charlotte, Chicago, Cincinnati Dayton, Columbus, DallasFtWorth, Denver, Detroit, GrandRapids, Great Lakes, Harrisburg Scranton, Hartford Springfield, Houston, Indianapolis, Jacksonville, Las Vegas, Los Angeles, Louisville, MiamiFtLauderdale, Nashville, NewOrleans Mobile, New York, Northern New England, Orlando, Philadelphia, Phoenix Tucson, Pittsburgh, Plains, Portland, Raleigh Greensboro, Richmond Norfolk, Roanoke, Sacramento, San Diego, San Francisco, Seattle, South Carolina, Spokane, StLouis, Syracuse, Tampa, West Tex New Mexico. The demand nodes are again the two restaurants: one in **Madison, Wisconsin**, and one in **Chicago, Illinois**. For the capacity constraint and assumptions regarding avocado demand and supply, the assumptions remain the same.\n",
    "\n",
    "$\\textbf{Decision Variables}$\n",
    "\n",
    "The decision variables are, again, the number of avocados transported between supplier and restaurant: $x_{ij}$, where $i$ represents the $i^{th}$ avocado supplier and $j$ represents the $j^{th}$ restaurant. In this case, there are 48 avocado suppliers transporting to 2 restaurants. In addition, the number of avocados transported between demand and supply nodes are non-negative.\n",
    "  \n",
    "$$x_{ij} \\ge 0$$\n",
    "$$i=1,...,48$$ $$j=1,2$$\n",
    "\n",
    "$\\textbf{Constraints}$ \n",
    "\n",
    "Constraints remain the same. It is assumed that the maximum load capacity betweeen supplier and restaurant is 1000 pounds.\n",
    "\n",
    "$$x_{ij} \\le 1000$$\n",
    "$$i=1,...,48$$ $$j=1,2$$\n",
    "\n",
    "Restuarants have known demand limits. It is assumed that one demands 2000 pounds and one demands 3000 pounds.\n",
    "\n",
    "$$ \\sum_{i=1}^8 x_{i1} = 2000, \\sum_{i=1}^8 x_{i2} = 3000 $$\n",
    "\n",
    "In 3.A., we did a lot of analysis regarding the changes of avocado transportation with different supplier capacity (800, 1000, unlimited). However, for simplicity, we assume suppliers have unlimited supply of avocado in 3.B.\n",
    "\n",
    "$\\textbf{Objective}$ \n",
    "\n",
    "$$ Minimize \\sum_{i=1}^{48} \\sum_{j=1}^2 d_{ij}*avgPPM + x_{ij}*c_i $$\n",
    "\n",
    "Similarly, we assume the total cost is the sum of two costs. One cost is the transportation cost between the $i^{th}$ supplier and the $j^{th}$ restuarant; and the other cost is the amount paid to buy certain amount of avocados from the $i^{th}$ supplier. $d_{ij}$ represents the distance between the $i^{th}$ supplier to the $j^{th}$ restaurant in miles; $avgPPM$ represents the average fuel price in dollars per mile, or 0.1388 in our assumption; $c_i$ represents the average cost of avocado in dollars per pound from the $i^{th}$ supplier.\n",
    "\n",
    "\n",
    "### 3.C. Two restuarants from all suppliers with time constraint ###\n",
    "\n",
    "$\\textbf{Parameters and Assumptions}$ \n",
    "\n",
    "Parameters in 3.C. are more complicated than 3.A. and 3.B., because we enforce the time constraint that each restaurant needs to import avocados from suppliers within a fixed time interval. The parameters still include number of nodes, N = 50, where **48 of them are supply nodes and 2 of them are demand nodes**. However, for each demand node, there is **a weekly transportation schedule from 48 supply nodes**, indicating where the avocados are imported in a weekly manner.\n",
    "\n",
    "**In the following, we only list the decision variables, constraints, and objective for the restaurant in Madison, Wisconsin, because both restaurants are sharing the same model and the same parameters except for avocado demand.**\n",
    "\n",
    "$\\textbf{Decision Variables}$\n",
    "\n",
    "The decision variables are the number of avocados transported between the restaurant in Madison, Wisconsin and suppliers all over the states in a weekly manner: $y_{ij}$, where $i$ represents the $i^{th}$ week and $j$ represents the $j^{th}$ supplier. There are in total 52 weeks in a year and 48 suppliers all over the states. The number of avocados transported for each week is non-negative.\n",
    "\n",
    "$$y_{ij} \\ge 0$$\n",
    "$$i=1,...,52$$ $$j=1,...,48$$\n",
    "\n",
    "In addition, there is a binary variable $z_i$, where $i$ represents the $i^{th}$ week.\n",
    "\n",
    "$$z_{i}= \\begin{cases} \n",
    "      1 & \\text{if any supplier transports avocados to restaurant in the $i^{th}$ week } \\\\\n",
    "      0 & \\text{otherwise}\n",
    "   \\end{cases}\n",
    "$$\n",
    "\n",
    "$\\textbf{Constraints}$ \n",
    "\n",
    "Restaurant imports once per month.\n",
    "\n",
    "$$ z_i + z_{i+1} + z_{i+2} + z_{i+3} = 1 \\text { } \\forall i=1,5,9,...,49$$\n",
    "\n",
    "Restaurant cannot import consecutively. In other words, two imports must be separated by at least 2 weeks.\n",
    "\n",
    "$$ z_i + z_{i+1} \\le 1 \\text { } \\forall i=1,2,3,...,51$$\n",
    "\n",
    "Restuarant in Madison, Wisconsin demands 2000 pounds of avocados per month. In other words, for the importing week, suppliers needs to transport 2000 pounds of avocados to the restaurant. For other weeks, no suppliers should be transporting avocados to the restuarant. For the restaruant in Chicago, Illinois, this number is 3000 pounds.\n",
    "\n",
    "$$ \\sum_{j=1}^{48} y_{ij} = 2000z_{i} \\text { } \\forall i=1,2,3,...,52$$\n",
    "\n",
    "Capacity constraint remains the same. It is assumed that the maximum load capacity betweeen supplier and restaurant is 1000 pounds.\n",
    "\n",
    "$$y_{ij} \\le 1000$$\n",
    "$$ i=1,...,52 $$\n",
    "$$ j=1,...,48 $$\n",
    "\n",
    "$\\textbf{Objective}$ \n",
    "\n",
    "$$ Minimize \\sum_{i=1}^{52} \\sum_{j=1}^{48} d_{j1}*avgPPM + y_{ij}*c_{ij} $$\n",
    "\n",
    "Here, we assume the total cost is the sum of two costs through all weeks. One cost is the transportation cost between the $j^{th}$ supplier and the restuarant in Madison, Wisconsin; and the other cost is the amount paid to buy certain amount of avocados from the $i^{th}$ supplier. $d_{j1}$ represents the distance between the $j^{th}$ supplier and the restaurant in Madison, Wisconsin in miles; $avgPPM$ represents the average fuel price in dollars per mile, or 0.1388 in our assumption; $c_{ij}$ represents the average cost of avocado in dollars per pound from the $j^{th}$ supplier in the $i^{th}$ week.  \n",
    "\n",
    "Again, this objective is only for the restaurant in Madison, Wisconsin. We do the same thing for the restaurant in Chicago, Illinois in later computation.\n",
    "\n",
    "\n",
    "### 3.D. Optimal restaurant locations ###\n",
    "\n",
    "$\\textbf{Parameters and Assumptions}$ \n",
    "\n",
    "The parameters include all the possible locations that may be used by any client who intends to open two restaurants. Here, we select the possible restaurant locations from the given supplier locations listed in the dataset. To be consistent with the assumption in 3.A and 3.B, we would try 2 different options. The first option selects 2 restaurant locations from 8 locations listed in 3.A. The second option selects 2 restaurant locations from all 48 locations listed in 3.B.\n",
    "\n",
    "Capacity constraint remains the same. It is assumed that the maximum load capacity betweeen supplier and restaurant is 1000 pounds.\n",
    "\n",
    "For avocado supply, it is still assumed **unlimited supply**.\n",
    "\n",
    "For avocado demand, it is assumed that the two restaurants both demand **2000 pounds** of avocados for simplicity (can be relaxed for complexity).\n",
    "\n",
    "**In the following, we only list the decision variables, constraints, and objective for selecting two restaruants from 8 possible locations; the same rule applies to selecting two restaruants from all 48 possible locations.**\n",
    "\n",
    "$\\textbf{Decision Variables}$ \n",
    "\n",
    "The decision variables are the number of avocados transported between supplier and restaurant: $x_{ij}$, where $i$ represents the $i^{th}$ avocado supplier and $j$ represents the $j^{th}$ restaurant. In this case, there are 8 avocado suppliers transporting to a total of 8 possible restaurants.\n",
    "\n",
    "$z_i$ corresponds to the possible choices of locations of two restaurants that we desired.\n",
    "\n",
    "$$x_{ij} \\ge 0$$\n",
    "$$z_{i} $$\n",
    "$$i=1,...,8$$ $$j=1,...,8$$\n",
    "\n",
    "$\\textbf{Constraints}$ \n",
    "\n",
    "It is assumed that we want two restaurant locations that minimize the total cost.\n",
    "\n",
    "$$ \\sum_{i=1}^8 z_{i} = 2 \\text { } $$\n",
    "\n",
    "It is assumed that the maximum load capacity betweeen supplier and restaurant is 1000 pounds.\n",
    "\n",
    "$$x_{ij} \\le 1000$$\n",
    "$$i=1,...,8$$ $$j=1,...,8$$\n",
    "\n",
    "Restuarants have known demand limits. It is assumed that one demands 2000 pounds.\n",
    "\n",
    "$$ \\sum_{i=1}^8 x_{i=1,...,8} = 2000 * z_j \\text { } \\forall j=1,..,8 $$\n",
    "\n",
    "$\\textbf{Objective}$ \n",
    "\n",
    "$$ Minimize \\sum_{i=1}^8 \\sum_{j=1}^2 d_{ij}*avgPPM + x_{ij}*z_{i}*c_i $$\n",
    "\n",
    "The parameters in the objective function are the same as in 3.C.\n"
   ]
  },
  {
   "cell_type": "markdown",
   "metadata": {},
   "source": [
    "## 4. Solution ##\n",
    "\n",
    "### 4.A. Two restuarants from eight suppliers ###"
   ]
  },
  {
   "cell_type": "code",
   "execution_count": 2,
   "metadata": {},
   "outputs": [],
   "source": [
    "# Restrict dataset to suppliers from nearby states\n",
    "# Calculate the average price of a single avocado over all time periods\n",
    "# A single avocado weighs 0.3 pounds\n",
    "states = [\"Chicago\",\"StLouis\",\"Indianapolis\",\"Louisville\",\"Columbus\",\"CincinnatiDayton\",\"GrandRapids\",\"Detroit\"]\n",
    "avgPrice = []\n",
    "for loc in states\n",
    "    dataRes = data[(data.region .== loc), :]\n",
    "    append!(avgPrice, sum(dataRes.AveragePrice)/nrow(dataRes))\n",
    "end\n",
    "# Average price per pound is thus 3.33 times the avgPrice (0.3 pounds/dollars)\n",
    "avgPricePerPd = avgPrice * 3.33;"
   ]
  },
  {
   "cell_type": "code",
   "execution_count": 3,
   "metadata": {},
   "outputs": [],
   "source": [
    "avgPPM = 0.1388; # the average price of transportation in dollars per mile"
   ]
  },
  {
   "cell_type": "code",
   "execution_count": 4,
   "metadata": {},
   "outputs": [
    {
     "data": {
      "text/plain": [
       "8×2 Named Array{Float64,2}\n",
       "SUPPLY ╲ DEMAND │      MD       CH\n",
       "────────────────┼─────────────────\n",
       "CH              │ 122.331      0.0\n",
       "SL              │ 310.011  262.301\n",
       "ID              │ 283.443  164.822\n",
       "LS              │   383.8  269.307\n",
       "CL              │ 394.712  275.622\n",
       "CC              │ 374.117  252.155\n",
       "GR              │  188.72  125.032\n",
       "DT              │ 326.661  237.032"
      ]
     },
     "execution_count": 4,
     "metadata": {},
     "output_type": "execute_result"
    }
   ],
   "source": [
    "# Calculate distance among suppliers and restaurants\n",
    "function distance(lat1, lon1, lat2, lon2)\n",
    "    # Code from GeeksForGeeks - Haversine formula\n",
    "    # calculate distance in miles given longitude and latitude coordinates\n",
    "    dLat = (lat2 - lat1) * pi / 180.0\n",
    "    dLon = (lon2 - lon1) * pi / 180.0  \n",
    "    # convert to radians \n",
    "    lat1 = (lat1) * pi / 180.0\n",
    "    lat2 = (lat2) * pi / 180.0\n",
    "    # apply formula \n",
    "    a = (sin(dLat / 2)^2 + sin(dLon / 2)^2 * cos(lat1) * cos(lat2))\n",
    "    rad = 6371\n",
    "    c = 2 * asin(sqrt(a)) \n",
    "    return rad * c * 0.621371\n",
    "end\n",
    "\n",
    "chicago = [41.8781, -87.6298]\n",
    "stLouis = [38.6270, -90.1994]\n",
    "indianapolis = [39.7684, -86.1581]\n",
    "louisville = [38.2527, -85.7585]\n",
    "columbus = [39.9612, -82.9988]\n",
    "cincinnatiDayton = [39.1031, -84.5120]\n",
    "grandRapids = [42.9634, -85.6681]\n",
    "detroit = [42.3314, -83.0458]\n",
    "madison = [43.0731, -89.4012]\n",
    "\n",
    "# 8 suppliers\n",
    "sources = [chicago, stLouis, indianapolis, louisville, columbus, cincinnatiDayton, grandRapids, detroit]\n",
    "# 2 restaurants\n",
    "demands = [madison, chicago]\n",
    "dist = zeros((8, 2))\n",
    "for i in 1:8\n",
    "    for j in 1:2\n",
    "        dist[i, j] = distance(sources[i][1], sources[i][2], demands[j][1], demands[j][2]);\n",
    "    end\n",
    "end\n",
    "\n",
    "# This lists the distance between 8 suppliers and 2 restaurants\n",
    "# and would be used to calculate the cost of transportation\n",
    "sourceSts = [\"CH\",\"SL\",\"ID\",\"LS\",\"CL\",\"CC\",\"GR\",\"DT\"]\n",
    "demandSts = [\"MD\", \"CH\"]\n",
    "NamedArray(dist, (sourceSts, demandSts), (\"SUPPLY\",\"DEMAND\"))"
   ]
  },
  {
   "cell_type": "markdown",
   "metadata": {},
   "source": [
    "#### 4.A.i Each supplier supplies a maximum 800 pounds of avocados"
   ]
  },
  {
   "cell_type": "code",
   "execution_count": 5,
   "metadata": {},
   "outputs": [
    {
     "name": "stdout",
     "output_type": "stream",
     "text": [
      "OPTIMAL\n",
      "Coin0506I Presolve 10 (-16) rows, 16 (0) columns and 32 (-16) elements\n",
      "Clp0006I 0  Obj 551.04551 Primal inf 5000 (2)\n",
      "Clp0006I 15  Obj 22251\n",
      "Clp0000I Optimal - objective value 22251\n",
      "Coin0511I After Postsolve, objective 22251, infeasibilities - dual 0 (0), primal 0 (0)\n",
      "Clp0032I Optimal objective 22251.00037 - 15 iterations time 0.002, Presolve 0.00\n"
     ]
    }
   ],
   "source": [
    "# Network Flow Problem in Clp\n",
    "m = Model()\n",
    "@variable(m, x[1:8, 1:2] >= 0)\n",
    "for i in 1:8\n",
    "    # the supplier constraint\n",
    "    # each supplier can supply 800 pounds of avocados\n",
    "    @constraint(m, x[i,1] + x[i,2] <= 800)\n",
    "end\n",
    "\n",
    "# The capacity constraint\n",
    "# each time, the SUV cannot transport more than 1000 pounds of avocados\n",
    "for i in 1:8\n",
    "    for j in 1:2\n",
    "         @constraint(m, x[i,j] <= 1000)\n",
    "    end\n",
    "end\n",
    "\n",
    "# The demand constraint\n",
    "# one restaurant demands a total of 2000 pounds, one demands 3000 pounds\n",
    "@constraint(m, sum(x[i,1] for i in 1:8) == 2000)\n",
    "@constraint(m, sum(x[i,2] for i in 1:8) == 3000)\n",
    "\n",
    "# Objective: minimize the total cost\n",
    "# total cost = transportation cost + avocado cost\n",
    "@objective(m, Min, sum(dist[i,j] * avgPPM + x[i,j] * avgPricePerPd[i] for j in 1:2 for i in 1:8))\n",
    "optimize!(m, with_optimizer(Clp.Optimizer))\n",
    "println(termination_status(m))"
   ]
  },
  {
   "cell_type": "code",
   "execution_count": 6,
   "metadata": {},
   "outputs": [],
   "source": [
    "# Store the result\n",
    "model_results[\"A.i\"] = value.(x);"
   ]
  },
  {
   "cell_type": "markdown",
   "metadata": {},
   "source": [
    "#### 4.A.ii Each supplier supplies a maximum 1000 pounds of avocados"
   ]
  },
  {
   "cell_type": "code",
   "execution_count": 7,
   "metadata": {},
   "outputs": [
    {
     "name": "stdout",
     "output_type": "stream",
     "text": [
      "OPTIMAL\n",
      "Coin0506I Presolve 10 (-16) rows, 16 (0) columns and 32 (-16) elements\n",
      "Clp0006I 0  Obj 551.04551 Primal inf 5000 (2)\n",
      "Clp0006I 7  Obj 21659.108\n",
      "Clp0000I Optimal - objective value 21659.108\n",
      "Coin0511I After Postsolve, objective 21659.108, infeasibilities - dual 0 (0), primal 0 (0)\n",
      "Clp0032I Optimal objective 21659.10764 - 7 iterations time 0.002, Presolve 0.00\n"
     ]
    }
   ],
   "source": [
    "# Network Flow Problem in Clp\n",
    "m = Model()\n",
    "@variable(m, x[1:8, 1:2] >= 0)\n",
    "\n",
    "# The supplier constraint\n",
    "# each supplier can supply 1000 pounds of avocados\n",
    "for i in 1:8\n",
    "    @constraint(m, x[i,1] + x[i,2] <= 1000)\n",
    "end\n",
    "\n",
    "# The capacity constraint\n",
    "# each time, the SUV cannot transport more than 1000 pounds of avocados\n",
    "for i in 1:8\n",
    "    for j in 1:2\n",
    "         @constraint(m, x[i,j] <= 1000)\n",
    "    end\n",
    "end\n",
    "\n",
    "# The demand constraint\n",
    "# one restaurants demands a total of 2000 pounds, one 3000 pounds\n",
    "@constraint(m, sum(x[i,1] for i in 1:8) == 2000)\n",
    "@constraint(m, sum(x[i,2] for i in 1:8) == 3000)\n",
    "\n",
    "# Objective: minimize the total cost\n",
    "# total cost = transportation cost + avocado cost\n",
    "@objective(m, Min, sum(dist[i,j] * avgPPM + x[i,j] * avgPricePerPd[i] for j in 1:2 for i in 1:8))\n",
    "optimize!(m, with_optimizer(Clp.Optimizer))\n",
    "println(termination_status(m))"
   ]
  },
  {
   "cell_type": "code",
   "execution_count": 8,
   "metadata": {},
   "outputs": [],
   "source": [
    "# Store the result\n",
    "model_results[\"A.ii\"] = value.(x);"
   ]
  },
  {
   "cell_type": "markdown",
   "metadata": {},
   "source": [
    "#### 4.A.iii Each supplier has unlimited supply of avocados"
   ]
  },
  {
   "cell_type": "code",
   "execution_count": 9,
   "metadata": {},
   "outputs": [
    {
     "name": "stdout",
     "output_type": "stream",
     "text": [
      "OPTIMAL\n",
      "Coin0506I Presolve 2 (-16) rows, 16 (0) columns and 16 (-16) elements\n",
      "Clp0006I 0  Obj 551.04551 Primal inf 5000 (2)\n",
      "Clp0006I 2  Obj 21197.243\n",
      "Clp0000I Optimal - objective value 21197.243\n",
      "Coin0511I After Postsolve, objective 21197.243, infeasibilities - dual 0 (0), primal 0 (0)\n",
      "Clp0032I Optimal objective 21197.24256 - 2 iterations time 0.002, Presolve 0.00\n"
     ]
    }
   ],
   "source": [
    "# Network Flow Problem in Clp\n",
    "m = Model()\n",
    "@variable(m, x[1:8, 1:2] >= 0)\n",
    "\n",
    "# The capacity constraint\n",
    "# each time, the SUV cannot transport more than 1000 pounds of avocados\n",
    "for i in 1:8\n",
    "    for j in 1:2\n",
    "         @constraint(m, x[i,j] <= 1000)\n",
    "    end\n",
    "end\n",
    "\n",
    "# The demand constraint\n",
    "# one restaurants demands a total of 2000 pounds, one 3000 pounds\n",
    "@constraint(m, sum(x[i,1] for i in 1:8) == 2000)\n",
    "@constraint(m, sum(x[i,2] for i in 1:8) == 3000)\n",
    "\n",
    "# Objective: minimize the total cost\n",
    "# total cost = transportation cost + avocado cost\n",
    "@objective(m, Min, sum(dist[i,j] * avgPPM + x[i,j] * avgPricePerPd[i] for j in 1:2 for i in 1:8))\n",
    "optimize!(m, with_optimizer(Clp.Optimizer))\n",
    "println(termination_status(m))"
   ]
  },
  {
   "cell_type": "code",
   "execution_count": 10,
   "metadata": {},
   "outputs": [],
   "source": [
    "# Store the result\n",
    "model_results[\"A.iii\"] = value.(x);"
   ]
  },
  {
   "cell_type": "code",
   "execution_count": 12,
   "metadata": {},
   "outputs": [
    {
     "name": "stdout",
     "output_type": "stream",
     "text": [
      "LOCALLY_SOLVED\n"
     ]
    }
   ],
   "source": [
    "# A new assumption - repeated trips are allowed\n",
    "m = Model()\n",
    "@variable(m, x[1:8, 1:2] >= 0)\n",
    "@variable(m, z[1:8, 1:2] >= 0)\n",
    "\n",
    "# The capacity constraint\n",
    "# each time, the SUV cannot transport more than 1000 pounds of avocados\n",
    "for i in 1:8\n",
    "    for j in 1:2\n",
    "         @constraint(m, x[i,j] <= 1000)\n",
    "    end\n",
    "end\n",
    "\n",
    "# The demand constraint\n",
    "# one restaurants demands a total of 2000 pounds, one 3000 pounds\n",
    "@constraint(m, sum(x[i,1]*z[i,1] for i in 1:8) == 2000)\n",
    "@constraint(m, sum(x[i,2]*z[i,2] for i in 1:8) == 3000)\n",
    "\n",
    "# Objective: minimize the total cost\n",
    "# total cost = transportation cost + avocado cost\n",
    "@objective(m, Min, sum(dist[i,j] * avgPPM + x[i,j]*z[i,j] * avgPricePerPd[i] for j in 1:2 for i in 1:8))\n",
    "optimize!(m, with_optimizer(Ipopt.Optimizer, print_level=0))\n",
    "println(termination_status(m))"
   ]
  },
  {
   "cell_type": "code",
   "execution_count": 13,
   "metadata": {},
   "outputs": [],
   "source": [
    "# Store the result\n",
    "model_results[\"A.iii.repeated\"] = value.(x.*z);"
   ]
  },
  {
   "cell_type": "markdown",
   "metadata": {},
   "source": [
    "### 4.B. Two restuarants from all suppliers ###"
   ]
  },
  {
   "cell_type": "code",
   "execution_count": 14,
   "metadata": {},
   "outputs": [],
   "source": [
    "# Calculate the average price of a single avocado over all time periods from all locations\n",
    "# A single avocado weighs 0.3 pounds\n",
    "states = [\"Albany\",\"Atlanta\",\"BaltimoreWashington\",\"Boise\",\"Boston\",\"BuffaloRochester\",\"California\",\"Charlotte\",\n",
    "          \"Chicago\",\"CincinnatiDayton\",\"Columbus\",\"DallasFtWorth\",\"Denver\",\"Detroit\",\"GrandRapids\",\"GreatLakes\",\n",
    "          \"HarrisburgScranton\",\"HartfordSpringfield\",\"Houston\",\"Indianapolis\",\"Jacksonville\",\"LasVegas\",\"LosAngeles\",\n",
    "          \"Louisville\",\"MiamiFtLauderdale\",\"Nashville\",\"NewOrleansMobile\",\"NewYork\",\"NorthernNewEngland\",\n",
    "          \"Orlando\",\"Philadelphia\",\"PhoenixTucson\",\"Pittsburgh\",\"Plains\",\"Portland\",\"RaleighGreensboro\",\"RichmondNorfolk\",\n",
    "          \"Roanoke\",\"Sacramento\",\"SanDiego\",\"SanFrancisco\",\"Seattle\",\"SouthCarolina\",\"Spokane\",\"StLouis\",\"Syracuse\",\n",
    "          \"Tampa\",\"WestTexNewMexico\"]\n",
    "avgPrice = []\n",
    "for loc in states\n",
    "    dataRes = data[(data.region .== loc), :]\n",
    "    append!(avgPrice, sum(dataRes.AveragePrice)/nrow(dataRes))\n",
    "end\n",
    "# Average price per pound is thus 3.33 times the avgPrice (0.3 pounds/dollars)\n",
    "avgPricePerPd = avgPrice * 3.33;"
   ]
  },
  {
   "cell_type": "code",
   "execution_count": 15,
   "metadata": {},
   "outputs": [],
   "source": [
    "# The coordinates of all 48 suppliers\n",
    "# Calculate the distance between different suppliers\n",
    "# for computing the transportation cost between supplier and restaurant\n",
    "albany = [42.6526, -73.7562]\n",
    "atlanta = [33.7490, -84.3880]\n",
    "baltimore = [39.1774, -76.6684]\n",
    "boise = [43.6150, -116.2023]\n",
    "boston = [42.3601, -71.0589]\n",
    "buffalo = [42.8864, -78.8784]\n",
    "california = [36.7783, -119.4179]\n",
    "charlotte = [35.2271, -80.8431]\n",
    "chicago = [41.8781, -87.6298]\n",
    "cincinnatiDayton = [39.1031, -84.5120]\n",
    "columbus = [39.9612, -82.9988]\n",
    "dallas = [32.7767, -96.7970]\n",
    "denver = [39.7392, -104.9903]\n",
    "detroit = [42.3314, -83.0458]\n",
    "grandRapids = [42.9634, -85.6681]\n",
    "greatLakes = [45.0522, -82.4846]\n",
    "harrisburgScranton = [41.4090, -75.6624]\n",
    "hartfordSpringfield = [41.7658, -72.6734]\n",
    "houston = [29.7604, -95.3698]\n",
    "indianapolis = [39.7684, -86.1581]\n",
    "jacksonville = [30.3322, -81.6557]\n",
    "lasVegas = [36.1699, -115.1398]\n",
    "losAngeles = [34.0522, -118.2437]\n",
    "louisville = [38.2527, -85.7585]\n",
    "miamiFtLauderdale = [25.7617, -80.1918]\n",
    "nashville = [36.1627, -86.7816]\n",
    "newOrleansMobile = [29.9511, -90.0715]\n",
    "newYork = [40.7128, -74.0060]\n",
    "northernNewEngland = [43.9654, -70.8227]\n",
    "orlando = [28.5383, -81.3792]\n",
    "philadelphia = [39.9526, -75.1652]\n",
    "phoenixTucson = [32.2178, -110.8758]\n",
    "pittsburgh = [40.4406, -79.9959]\n",
    "plains = [37.2603, -100.5927]\n",
    "portland = [45.5051, -122.6750]\n",
    "raleighGreensboro = [36.0726, -79.7920]\n",
    "richmondNorfolk = [37.5407, -77.4360]\n",
    "roanoke = [37.2710, -79.9414]\n",
    "sacramento = [38.5816, -121.4944]\n",
    "sanDiego = [32.7157, -117.1611]\n",
    "sanFrancisco = [37.7749, -122.4194]\n",
    "seattle = [47.6062, -122.3321]\n",
    "southCarolina = [33.8361, -81.1637]\n",
    "spokane = [47.6588, -117.4260]\n",
    "stLouis = [38.6270, -90.1994]\n",
    "syracuse = [43.0481, -76.1474]\n",
    "tampa = [27.9506, -82.4572]\n",
    "westTexNewMexico = [34.5199, -105.8701]\n",
    "madison = [43.0731, -89.4012]\n",
    "\n",
    "# 48 suppliers\n",
    "sources = [albany, atlanta, baltimore, boise, boston, buffalo, california, charlotte, chicago, cincinnatiDayton, \n",
    "           columbus, dallas, denver, detroit, grandRapids, greatLakes, harrisburgScranton, hartfordSpringfield,\n",
    "           houston, indianapolis, jacksonville, lasVegas, losAngeles, louisville, miamiFtLauderdale, nashville,\n",
    "           newOrleansMobile, newYork, northernNewEngland, orlando, philadelphia, phoenixTucson, pittsburgh, plains, \n",
    "           portland, raleighGreensboro, richmondNorfolk, roanoke, sacramento, sanDiego, sanFrancisco, seattle, \n",
    "           southCarolina, spokane, stLouis, syracuse, tampa, westTexNewMexico]\n",
    "\n",
    "# 2 restaurants\n",
    "demands = [madison, chicago]\n",
    "dist = zeros((48, 2))\n",
    "for i in 1:48\n",
    "    for j in 1:2\n",
    "        dist[i, j] = distance(sources[i][1], sources[i][2], demands[j][1], demands[j][2]);\n",
    "    end\n",
    "end"
   ]
  },
  {
   "cell_type": "code",
   "execution_count": 16,
   "metadata": {},
   "outputs": [
    {
     "name": "stdout",
     "output_type": "stream",
     "text": [
      "OPTIMAL\n",
      "Coin0506I Presolve 2 (-96) rows, 96 (0) columns and 96 (-96) elements\n",
      "Clp0006I 0  Obj 11600.129 Primal inf 5000 (2)\n",
      "Clp0006I 2  Obj 29836.017\n",
      "Clp0000I Optimal - objective value 29836.017\n",
      "Coin0511I After Postsolve, objective 29836.017, infeasibilities - dual 0 (0), primal 0 (0)\n",
      "Clp0032I Optimal objective 29836.017 - 2 iterations time 0.002, Presolve 0.00\n"
     ]
    }
   ],
   "source": [
    "# Network Flow Problem in Clp\n",
    "m = Model()\n",
    "@variable(m, x[1:48, 1:2] >= 0)\n",
    "\n",
    "# The capacity constraint\n",
    "# each time, the SUV cannot transport more than 1000 pounds of avocados\n",
    "for i in 1:48\n",
    "    for j in 1:2\n",
    "         @constraint(m, x[i,j] <= 1000)\n",
    "    end\n",
    "end\n",
    "\n",
    "# The demand constraint\n",
    "# one restaurant demands a total of 2000 pounds, and one demands 3000 pounds\n",
    "@constraint(m, sum(x[i,1] for i in 1:48) == 2000)\n",
    "@constraint(m, sum(x[i,2] for i in 1:48) == 3000)\n",
    "\n",
    "# Objective: minimize the total cost\n",
    "# total cost = transportation cost + avocado cost\n",
    "@objective(m, Min, sum(dist[i,j] * avgPPM + x[i,j] * avgPricePerPd[i] for j in 1:2 for i in 1:48))\n",
    "optimize!(m, with_optimizer(Clp.Optimizer))\n",
    "println(termination_status(m))"
   ]
  },
  {
   "cell_type": "code",
   "execution_count": 17,
   "metadata": {},
   "outputs": [],
   "source": [
    "# Store the result\n",
    "model_results[\"B\"] = value.(x);"
   ]
  },
  {
   "cell_type": "markdown",
   "metadata": {},
   "source": [
    "### 4.C. Two restuarants from all suppliers with time constraint ###"
   ]
  },
  {
   "cell_type": "code",
   "execution_count": 18,
   "metadata": {},
   "outputs": [
    {
     "data": {
      "text/plain": [
       "52×48 Named Array{Float64,2}\n",
       "WEEK ╲ SUPPLY │              Albany  …     WestTexNewMexico\n",
       "──────────────┼────────────────────────────────────────────\n",
       "1             │              5.1504  …              3.20513\n",
       "2             │             5.27805                  3.7074\n",
       "3             │              5.2392                  3.6741\n",
       "4             │             5.08935                 3.90165\n",
       "5             │              4.9839                  3.6075\n",
       "6             │              4.8063                 3.66855\n",
       "7             │             5.07825                  3.6852\n",
       "8             │             5.03385                  3.8406\n",
       "9             │              4.8951                  3.7296\n",
       "10            │              5.3058                  3.5964\n",
       "11            │              5.1837                 3.56865\n",
       "12            │              5.1282                 3.79065\n",
       "⋮                                 ⋮  ⋱                    ⋮\n",
       "41            │             4.93256                 5.00333\n",
       "42            │             5.06992                 5.13652\n",
       "43            │             5.09074                 4.88261\n",
       "44            │             5.13236                 4.87845\n",
       "45            │             4.97003                  4.4955\n",
       "46            │             5.31968                 4.32484\n",
       "47            │             5.25307                 4.45804\n",
       "48            │             5.15318                 4.22494\n",
       "49            │             4.85764                 4.33733\n",
       "50            │             4.92424                 4.17915\n",
       "51            │             5.27389                 4.19164\n",
       "52            │             5.33633  …              3.96686"
      ]
     },
     "execution_count": 18,
     "metadata": {},
     "output_type": "execute_result"
    }
   ],
   "source": [
    "# Get the average price of avocados from each supplier in a weekly manner\n",
    "states = [\"Albany\",\"Atlanta\",\"BaltimoreWashington\",\"Boise\",\"Boston\",\"BuffaloRochester\",\"California\",\"Charlotte\",\n",
    "          \"Chicago\",\"CincinnatiDayton\",\"Columbus\",\"DallasFtWorth\",\"Denver\",\"Detroit\",\"GrandRapids\",\"GreatLakes\",\n",
    "          \"HarrisburgScranton\",\"HartfordSpringfield\",\"Houston\",\"Indianapolis\",\"Jacksonville\",\"LasVegas\",\"LosAngeles\",\n",
    "          \"Louisville\",\"MiamiFtLauderdale\",\"Nashville\",\"NewOrleansMobile\",\"NewYork\",\"NorthernNewEngland\",\n",
    "          \"Orlando\",\"Philadelphia\",\"PhoenixTucson\",\"Pittsburgh\",\"Plains\",\"Portland\",\"RaleighGreensboro\",\"RichmondNorfolk\",\n",
    "          \"Roanoke\",\"Sacramento\",\"SanDiego\",\"SanFrancisco\",\"Seattle\",\"SouthCarolina\",\"Spokane\",\"StLouis\",\"Syracuse\",\n",
    "          \"Tampa\",\"WestTexNewMexico\"]\n",
    "avgPriceWk = []\n",
    "for j in 1:2496\n",
    "    append!(avgPriceWk, j)\n",
    "end\n",
    "avgPriceWk = reshape(avgPriceWk,52,48)\n",
    "\n",
    "for week in 1:52\n",
    "    for locIndex in 1:48\n",
    "        loc = states[locIndex]\n",
    "        dataRes = data[(data.Week .== 52-week) .& (data.region .== loc), :]\n",
    "        avgPriceWk[week, locIndex] = sum(dataRes.AveragePrice)/nrow(dataRes)\n",
    "    end\n",
    "end\n",
    "\n",
    "# Average price per pound is 3.33 times the avgPrice (0.3 pounds/dollars)\n",
    "avgPriceWkPerPd = avgPriceWk * 3.33;\n",
    "\n",
    "# list the price table of avocados from different suppliers in a weekly manner\n",
    "weeks = [i for i in 1:52]\n",
    "NamedArray(avgPriceWkPerPd, (weeks, states), (\"WEEK\",\"SUPPLY\"))"
   ]
  },
  {
   "cell_type": "code",
   "execution_count": 24,
   "metadata": {},
   "outputs": [
    {
     "name": "stdout",
     "output_type": "stream",
     "text": [
      "OPTIMAL\n",
      "Objective value:830565.2399738753\n",
      "Welcome to the CBC MILP Solver \n",
      "Version: 2.10.3 \n",
      "Build Date: Oct  7 2019 \n",
      "\n",
      "command line - Cbc_C_Interface -solve -quit (default strategy 1)\n",
      "Continuous objective value is 221358 - 0.05 seconds\n",
      "Cgl0003I 0 fixed, 0 tightened bounds, 70 strengthened rows, 0 substitutions\n",
      "Cgl0003I 0 fixed, 0 tightened bounds, 34 strengthened rows, 0 substitutions\n",
      "Cgl0003I 0 fixed, 0 tightened bounds, 26 strengthened rows, 0 substitutions\n",
      "Cgl0003I 0 fixed, 0 tightened bounds, 23 strengthened rows, 0 substitutions\n",
      "Cgl0004I processed model has 154 rows, 4929 columns (104 integer (104 of which binary)) and 5081 elements\n",
      "Cbc0012I Integer solution of 228650.29 found by DiveCoefficient after 0 iterations and 0 nodes (0.14 seconds)\n",
      "Cbc0038I Full problem 154 rows 4929 columns, reduced to 75 rows 2791 columns - 7 fixed gives 56, 2260 - still too large\n",
      "Cbc0012I Integer solution of 227358.52 found by DiveCoefficient after 133 iterations and 0 nodes (0.20 seconds)\n",
      "Cbc0031I 99 added rows had average density of 41.535354\n",
      "Cbc0013I At root node, 99 cuts changed objective from 221357.59 to 227358.52 in 4 passes\n",
      "Cbc0014I Cut generator 0 (Probing) - 227 row cuts average 39.7 elements, 0 column cuts (0 active)  in 0.007 seconds - new frequency is 1\n",
      "Cbc0014I Cut generator 1 (Gomory) - 103 row cuts average 62.9 elements, 0 column cuts (0 active)  in 0.002 seconds - new frequency is 1\n",
      "Cbc0014I Cut generator 2 (Knapsack) - 0 row cuts average 0.0 elements, 0 column cuts (0 active)  in 0.004 seconds - new frequency is -100\n",
      "Cbc0014I Cut generator 3 (Clique) - 0 row cuts average 0.0 elements, 0 column cuts (0 active)  in 0.000 seconds - new frequency is -100\n",
      "Cbc0014I Cut generator 4 (MixedIntegerRounding2) - 116 row cuts average 38.4 elements, 0 column cuts (0 active)  in 0.005 seconds - new frequency is 1\n",
      "Cbc0014I Cut generator 5 (FlowCover) - 13 row cuts average 47.0 elements, 0 column cuts (0 active)  in 0.000 seconds - new frequency is -100\n",
      "Cbc0014I Cut generator 6 (TwoMirCuts) - 179 row cuts average 51.0 elements, 0 column cuts (0 active)  in 0.009 seconds - new frequency is -100\n",
      "Cbc0001I Search completed - best objective 227358.525, took 133 iterations and 0 nodes (0.20 seconds)\n",
      "Cbc0035I Maximum depth 0, 0 variables fixed on reduced cost\n",
      "Cuts at root node changed objective from 221358 to 227359\n",
      "Probing was tried 4 times and created 227 cuts of which 0 were active after adding rounds of cuts (0.007 seconds)\n",
      "Gomory was tried 4 times and created 103 cuts of which 0 were active after adding rounds of cuts (0.002 seconds)\n",
      "Knapsack was tried 4 times and created 0 cuts of which 0 were active after adding rounds of cuts (0.004 seconds)\n",
      "Clique was tried 4 times and created 0 cuts of which 0 were active after adding rounds of cuts (0.000 seconds)\n",
      "MixedIntegerRounding2 was tried 4 times and created 116 cuts of which 0 were active after adding rounds of cuts (0.005 seconds)\n",
      "FlowCover was tried 4 times and created 13 cuts of which 0 were active after adding rounds of cuts (0.000 seconds)\n",
      "TwoMirCuts was tried 4 times and created 179 cuts of which 0 were active after adding rounds of cuts (0.009 seconds)\n",
      "ZeroHalf was tried 1 times and created 0 cuts of which 0 were active after adding rounds of cuts (0.004 seconds)\n",
      "\n",
      "Result - Optimal solution found\n",
      "\n",
      "Objective value:                227358.52500000\n",
      "Enumerated nodes:               0\n",
      "Total iterations:               133\n",
      "Time (CPU seconds):             0.22\n",
      "Time (Wallclock seconds):       0.22\n",
      "\n",
      "Total time (CPU seconds):       0.22   (Wallclock seconds):       0.22\n",
      "\n"
     ]
    }
   ],
   "source": [
    "# Network Flow Problem in Cbc\n",
    "# Get the transportation schedule for two restaurants\n",
    "m = Model()\n",
    "@variable(m, x_mad[1:52, 1:48] >= 0)\n",
    "@variable(m, x_chi[1:52, 1:48] >= 0)\n",
    "@variable(m, z_mad[1:52], Bin)\n",
    "@variable(m, z_chi[1:52], Bin)\n",
    "\n",
    "# Import time constraint\n",
    "# each restaurant imports once per month\n",
    "for i in 1:4:52\n",
    "    @constraint(m, sum(z_mad[j] for j in i:i+3) == 1)\n",
    "    @constraint(m, sum(z_chi[j] for j in i:i+3) == 1)\n",
    "end\n",
    "\n",
    "# Import once at least every two weeks\n",
    "# each restaurant cannot import straight twice (twice in two weeks)\n",
    "for i in 1:51\n",
    "    @constraint(m, z_mad[i] + z_mad[i+1] <= 1)\n",
    "    @constraint(m, z_chi[i] + z_chi[i+1] <= 1)\n",
    "end\n",
    "\n",
    "# The demand constraint\n",
    "# restaurant in Madison demands 2000 pounds per month\n",
    "# restaurant in Chicago demands 3000 pounds per month\n",
    "for i in 1:52\n",
    "    @constraint(m, sum(x_mad[i,:]) == 2000*z_mad[i])\n",
    "    @constraint(m, sum(x_chi[i,:]) == 3000*z_chi[i])\n",
    "end\n",
    "\n",
    "# The capacity constraint\n",
    "# each time, the SUV cannot transport more than 1000 pounds of avocados\n",
    "for i in 1:52\n",
    "    for j in 1:48\n",
    "        @constraint(m, x_mad[i,j] <= 1000)\n",
    "        @constraint(m, x_chi[i,j] <= 1000)\n",
    "    end\n",
    "end\n",
    "\n",
    "# Objective: minimize the total cost for both restaurants\n",
    "# total cost = transportation cost + avocado cost\n",
    "@objective(m, Min, sum(dist[j,1]*avgPPM + x_mad[i,j]*avgPriceWkPerPd[i,j] for j in 1:48 for i in 1:52)\n",
    "                    + sum(dist[j,2]*avgPPM + x_chi[i,j]*avgPriceWkPerPd[i,j] for j in 1:48 for i in 1:52))\n",
    "optimize!(m, with_optimizer(Cbc.Optimizer))\n",
    "println(termination_status(m))"
   ]
  },
  {
   "cell_type": "code",
   "execution_count": 25,
   "metadata": {},
   "outputs": [],
   "source": [
    "# Store the result\n",
    "# Transporation schedule for restuarant in Madison\n",
    "model_results[\"C_mad\"] = value.(x_mad);"
   ]
  },
  {
   "cell_type": "code",
   "execution_count": 26,
   "metadata": {},
   "outputs": [],
   "source": [
    "# Store the result\n",
    "# Transporation schedule for restuarant in Chicago\n",
    "model_results[\"C_chi\"] = value.(x_chi);"
   ]
  },
  {
   "cell_type": "markdown",
   "metadata": {},
   "source": [
    "### 4.D. Optimal restaurant locations###\n",
    "\n",
    "#### 4.D.i Choose two restuarants from eight suppliers"
   ]
  },
  {
   "cell_type": "code",
   "execution_count": 27,
   "metadata": {},
   "outputs": [],
   "source": [
    "# Set up the 8 possible locations\n",
    "sources = [chicago, stLouis, indianapolis, louisville, columbus, cincinnatiDayton, grandRapids, detroit]\n",
    "demands = [chicago, stLouis, indianapolis, louisville, columbus, cincinnatiDayton, grandRapids, detroit]\n",
    "dist_new = zeros((8, 8))\n",
    "for i in 1:8\n",
    "    for j in 1:8\n",
    "        dist_new[i, j] = distance(sources[i][1], sources[i][2], demands[j][1], demands[j][2]);\n",
    "    end\n",
    "end"
   ]
  },
  {
   "cell_type": "code",
   "execution_count": 28,
   "metadata": {},
   "outputs": [
    {
     "name": "stdout",
     "output_type": "stream",
     "text": [
      "Academic license - for non-commercial use only\r\n",
      "Academic license - for non-commercial use only\r\n",
      "OPTIMAL\n"
     ]
    }
   ],
   "source": [
    "# Choosing two restaurants from 8 sources\n",
    "m = Model(with_optimizer(Gurobi.Optimizer,OutputFlag=0))\n",
    "@variable(m, z[1:8], Bin)\n",
    "@variable(m, x[1:8, 1:8] >= 0)\n",
    "@constraint(m, sum(z[i] for i in 1:8) == 2)\n",
    "\n",
    "# The capacity constraint\n",
    "# each time, the SUV cannot transport more than 1000 pounds of avocados\n",
    "for i in 1:8\n",
    "    for j in 1:8\n",
    "         @constraint(m, x[i,j] * z[j] <= 1000)\n",
    "    end\n",
    "end\n",
    "\n",
    "# The demand constraint\n",
    "# both restaurant demands 2000 pounds of avocados\n",
    "for i in 1:8\n",
    "    @constraint(m, sum(x[j, i] for j in 1:8) == 2000 * z[i])\n",
    "end\n",
    "\n",
    "# Objective: minimize the total cost\n",
    "# total cost = transportation cost + avocado cost\n",
    "@objective(m, Min, sum(dist_new[i,j] * avgPPM + x[i,j] * z[j] * avgPricePerPd[i] for j in 1:8 for i in 1:8))\n",
    "optimize!(m)\n",
    "println(termination_status(m))\n",
    "model_results[\"Opt_2r8s_noLimit\"] = value.(x);"
   ]
  },
  {
   "cell_type": "markdown",
   "metadata": {},
   "source": [
    "#### 4.D.ii Choose two restuarants from all suppliers"
   ]
  },
  {
   "cell_type": "code",
   "execution_count": 29,
   "metadata": {},
   "outputs": [],
   "source": [
    "# Set up all 48 possible locations\n",
    "sources = [albany, atlanta, baltimore, boise, boston, buffalo, california, charlotte, chicago, cincinnatiDayton, \n",
    "           columbus, dallas, denver, detroit, grandRapids, greatLakes, harrisburgScranton, hartfordSpringfield,\n",
    "           houston, indianapolis, jacksonville, lasVegas, losAngeles, louisville, miamiFtLauderdale, nashville,\n",
    "           newOrleansMobile, newYork, northernNewEngland, orlando, philadelphia, phoenixTucson, pittsburgh, plains, \n",
    "           portland, raleighGreensboro, richmondNorfolk, roanoke, sacramento, sanDiego, sanFrancisco, seattle, \n",
    "           southCarolina, spokane, stLouis, syracuse, tampa, westTexNewMexico]\n",
    "\n",
    "demands = [albany, atlanta, baltimore, boise, boston, buffalo, california, charlotte, chicago, cincinnatiDayton, \n",
    "           columbus, dallas, denver, detroit, grandRapids, greatLakes, harrisburgScranton, hartfordSpringfield,\n",
    "           houston, indianapolis, jacksonville, lasVegas, losAngeles, louisville, miamiFtLauderdale, nashville,\n",
    "           newOrleansMobile, newYork, northernNewEngland, orlando, philadelphia, phoenixTucson, pittsburgh, plains, \n",
    "           portland, raleighGreensboro, richmondNorfolk, roanoke, sacramento, sanDiego, sanFrancisco, seattle, \n",
    "           southCarolina, spokane, stLouis, syracuse, tampa, westTexNewMexico]\n",
    "\n",
    "dist_new2 = zeros((48, 48))\n",
    "for i in 1:48\n",
    "    for j in 1:48\n",
    "        dist_new2[i, j] = distance(sources[i][1], sources[i][2], demands[j][1], demands[j][2]);\n",
    "    end\n",
    "end"
   ]
  },
  {
   "cell_type": "code",
   "execution_count": 30,
   "metadata": {},
   "outputs": [
    {
     "name": "stdout",
     "output_type": "stream",
     "text": [
      "Academic license - for non-commercial use only\r\n",
      "Academic license - for non-commercial use only\r\n",
      "OPTIMAL\n"
     ]
    }
   ],
   "source": [
    "# Choosing two restaurants from 48 sources\n",
    "m = Model(with_optimizer(Gurobi.Optimizer,OutputFlag=0))\n",
    "@variable(m, z[1:48], Bin)\n",
    "@variable(m, x[1:48, 1:48] >= 0)\n",
    "@constraint(m, sum(z[i] for i in 1:48) == 2)\n",
    "\n",
    "# The capacity constraint\n",
    "# each time, the SUV cannot transport more than 1000 pounds of avocados\n",
    "for i in 1:48\n",
    "    for j in 1:48\n",
    "         @constraint(m, x[i,j] * z[j] <= 1000)\n",
    "    end\n",
    "end\n",
    "\n",
    "# The demand constraint\n",
    "# both restaurant demands 2000 pounds of avocados\n",
    "for i in 1:48\n",
    "    @constraint(m, sum(x[j, i] for j in 1:48) == 2000 * z[i])\n",
    "end\n",
    "\n",
    "# Objective: minimize the total cost\n",
    "# total cost = transportation cost + avocado cost\n",
    "@objective(m, Min, sum(dist_new2[i,j] * avgPPM + x[i,j] * z[j] * avgPricePerPd[i] for j in 1:48 for i in 1:48))\n",
    "optimize!(m)\n",
    "println(termination_status(m))\n",
    "model_results[\"Opt_2r48s_noLimit\"] = value.(x);"
   ]
  },
  {
   "cell_type": "markdown",
   "metadata": {},
   "source": [
    "## 5. Results and Discussion ##\n",
    "\n",
    "### 5.A. Two restuarants from eight suppliers ###\n",
    "\n",
    "#### 5.A.i Each supplier supplies a maximum 800 pounds of avocados"
   ]
  },
  {
   "cell_type": "code",
   "execution_count": 31,
   "metadata": {},
   "outputs": [
    {
     "data": {
      "text/plain": [
       "8×2 Named Array{Float64,2}\n",
       "  SUPPLY ╲ DEMAND │ Madison  Chicago\n",
       "──────────────────┼─────────────────\n",
       "Chicago           │     0.0      0.0\n",
       "St Louis          │   800.0      0.0\n",
       "Indianapolis      │     0.0    800.0\n",
       "Louisville        │     0.0    800.0\n",
       "Columbus          │   200.0    600.0\n",
       "Cincinnati Dayton │     0.0    800.0\n",
       "Grand Rapids      │   200.0      0.0\n",
       "Detroit           │   800.0      0.0"
      ]
     },
     "execution_count": 31,
     "metadata": {},
     "output_type": "execute_result"
    }
   ],
   "source": [
    "# Display the result\n",
    "sources = [\"Chicago\",\"St Louis\",\"Indianapolis\",\"Louisville\",\"Columbus\",\"Cincinnati Dayton\",\"Grand Rapids\",\"Detroit\"]\n",
    "demands = [\"Madison\",\"Chicago\"]\n",
    "NamedArray(model_results[\"A.i\"], (sources, demands), (\"SUPPLY\", \"DEMAND\"))"
   ]
  },
  {
   "cell_type": "markdown",
   "metadata": {},
   "source": [
    "The model provides an optimal breakdown of suppliers and order quantity to meet the demand of both restaurants while minimizing the total import cost. At a total import cost of **22,251 dollars**, the solution shows that it is more cost effective for the restaurants to import from a supplier that is further away, compared to a nearer location with a higher average price per pound. As such both restaurant locations would be better served importing from Columbus (the farthest supplier) than Chicago (the nearest supplier). Furthermore, the result shows that it is cheaper to import the entirety of a supplier’s stock to a single restaurant location rather than splitting the supply between the two restaurant locations. "
   ]
  },
  {
   "cell_type": "markdown",
   "metadata": {},
   "source": [
    "<img src=\"image/A1.png\" style=\"width:650px; height:400px\">\n",
    "<div style=' text-align: center;'><strong>Route from 8 suppliers to 2 restaurants (supplier capacity=800)</strong></div>"
   ]
  },
  {
   "cell_type": "markdown",
   "metadata": {},
   "source": [
    "#### 5.A.ii Each supplier supplies a maximum 1000 pounds of avocados"
   ]
  },
  {
   "cell_type": "code",
   "execution_count": 32,
   "metadata": {},
   "outputs": [
    {
     "data": {
      "text/plain": [
       "8×2 Named Array{Float64,2}\n",
       "  SUPPLY ╲ DEMAND │ Madison  Chicago\n",
       "──────────────────┼─────────────────\n",
       "Chicago           │     0.0      0.0\n",
       "St Louis          │     0.0      0.0\n",
       "Indianapolis      │  1000.0      0.0\n",
       "Louisville        │  1000.0      0.0\n",
       "Columbus          │     0.0   1000.0\n",
       "Cincinnati Dayton │     0.0   1000.0\n",
       "Grand Rapids      │     0.0      0.0\n",
       "Detroit           │     0.0   1000.0"
      ]
     },
     "execution_count": 32,
     "metadata": {},
     "output_type": "execute_result"
    }
   ],
   "source": [
    "# Display the result\n",
    "NamedArray(model_results[\"A.ii\"], (sources, demands), (\"SUPPLY\", \"DEMAND\"))"
   ]
  },
  {
   "cell_type": "markdown",
   "metadata": {},
   "source": [
    "Again, the model provides an optimal breakdown of suppliers and order quantity to meet the demand of both restaurants while minimizing the total import cost. The relaxation of constraints by allowing extra supply results in a lower total import cost of **21,659 dollars**, compared to 22,251 dollars in **A.i**. This is expected as an increased supply translated to a decrease in the total number of trips, hence the lower total cost. Interestingly, suppliers that are reserved exclusively for Chicago in **A.i** are now utilized for Madison, and vice versa."
   ]
  },
  {
   "cell_type": "markdown",
   "metadata": {},
   "source": [
    "<img src=\"image/A2.png\" style=\"width:650px; height:400px\">\n",
    "<div style=' text-align: center;'> <strong>Route from 8 suppliers to 2 restaurants (supplier capacity=1000)</strong></div>"
   ]
  },
  {
   "cell_type": "markdown",
   "metadata": {},
   "source": [
    "#### 5.A.iii Each supplier has unlimited supply of avocados"
   ]
  },
  {
   "cell_type": "code",
   "execution_count": 33,
   "metadata": {},
   "outputs": [
    {
     "data": {
      "text/plain": [
       "8×2 Named Array{Float64,2}\n",
       "  SUPPLY ╲ DEMAND │ Madison  Chicago\n",
       "──────────────────┼─────────────────\n",
       "Chicago           │     0.0      0.0\n",
       "St Louis          │     0.0      0.0\n",
       "Indianapolis      │     0.0      0.0\n",
       "Louisville        │     0.0      0.0\n",
       "Columbus          │  1000.0   1000.0\n",
       "Cincinnati Dayton │  1000.0   1000.0\n",
       "Grand Rapids      │     0.0      0.0\n",
       "Detroit           │     0.0   1000.0"
      ]
     },
     "execution_count": 33,
     "metadata": {},
     "output_type": "execute_result"
    }
   ],
   "source": [
    "# Display the result\n",
    "NamedArray(model_results[\"A.iii\"], (sources, demands), (\"SUPPLY\", \"DEMAND\"))"
   ]
  },
  {
   "cell_type": "markdown",
   "metadata": {},
   "source": [
    "Both restaurant locations can now share an optimal supplier when a large enough inventory is presented by the relaxation of constraints. At an import cost of **21,197 dollars**, we see a continuing trend of cost decreasing as supply increases. As both client restaurant locations can now share optimal suppliers, an even lower cost is achieved compared to the costs in **A.i** and **A.ii**. "
   ]
  },
  {
   "cell_type": "markdown",
   "metadata": {},
   "source": [
    "<img src=\"image/A3.png\" style=\"width:650px; height:400px\">\n",
    "<div style=' text-align: center;'><strong>Route from 8 suppliers to 2 restaurants (unlimited supply)</strong></div>"
   ]
  },
  {
   "cell_type": "markdown",
   "metadata": {},
   "source": [
    "Besides the above route, we also have a quadratic model that allows repeated trips in transportation. The result is shown below."
   ]
  },
  {
   "cell_type": "code",
   "execution_count": 34,
   "metadata": {},
   "outputs": [
    {
     "data": {
      "text/plain": [
       "8×2 Named Array{Float64,2}\n",
       "  SUPPLY ╲ DEMAND │ Madison  Chicago\n",
       "──────────────────┼─────────────────\n",
       "Chicago           │     0.0      0.0\n",
       "St Louis          │     0.0      0.0\n",
       "Indianapolis      │     0.0      0.0\n",
       "Louisville        │     0.0      0.0\n",
       "Columbus          │     0.0      0.0\n",
       "Cincinnati Dayton │  2000.0   3000.0\n",
       "Grand Rapids      │     0.0      0.0\n",
       "Detroit           │     0.0      0.0"
      ]
     },
     "execution_count": 34,
     "metadata": {},
     "output_type": "execute_result"
    }
   ],
   "source": [
    "# Display the result\n",
    "NamedArray(model_results[\"A.iii.repeated\"], (sources, demands), (\"SUPPLY\", \"DEMAND\"))"
   ]
  },
  {
   "cell_type": "markdown",
   "metadata": {},
   "source": [
    "At an import cost of **20684 dollars**, we see a continuing trend of cost decreasing as supply increases. As such both restaurants only needed repeated trips to one optimal supplier, **Cincinnati Dayton**."
   ]
  },
  {
   "cell_type": "markdown",
   "metadata": {},
   "source": [
    "<img src=\"image/A3'.png\" style=\"width:650px; height:400px\">\n",
    "<div style=' text-align: center;'><strong>Route from 8 suppliers to 2 restaurants (unlimited supply and repeated trips)</strong></div>"
   ]
  },
  {
   "cell_type": "markdown",
   "metadata": {},
   "source": [
    "The following graph shows the change in import cost corrosponding to an increase in supplier capacity."
   ]
  },
  {
   "attachments": {
    "costsupply.png": {
     "image/png": "[encoded data removed]"
    }
   },
   "cell_type": "markdown",
   "metadata": {},
   "source": [
    "![costsupply.png](attachment:costsupply.png)"
   ]
  },
  {
   "cell_type": "markdown",
   "metadata": {},
   "source": [
    "### 5.B. Two restuarants from all suppliers ###"
   ]
  },
  {
   "cell_type": "code",
   "execution_count": 35,
   "metadata": {},
   "outputs": [
    {
     "data": {
      "text/plain": [
       "3×2 Named Array{Float64,2}\n",
       " SUPPLY ╲ DEMAND │ Madison  Chicago\n",
       "─────────────────┼─────────────────\n",
       "CincinnatiDayton │     0.0   1000.0\n",
       "DallasFtWorth    │  1000.0   1000.0\n",
       "Houston          │  1000.0   1000.0"
      ]
     },
     "execution_count": 35,
     "metadata": {},
     "output_type": "execute_result"
    }
   ],
   "source": [
    "# Display the result\n",
    "sources = [\"Albany\",\"Atlanta\",\"BaltimoreWashington\",\"Boise\",\"Boston\",\"BuffaloRochester\",\"California\",\"Charlotte\",\n",
    "          \"Chicago\",\"CincinnatiDayton\",\"Columbus\",\"DallasFtWorth\",\"Denver\",\"Detroit\",\"GrandRapids\",\"GreatLakes\",\n",
    "          \"HarrisburgScranton\",\"HartfordSpringfield\",\"Houston\",\"Indianapolis\",\"Jacksonville\",\"LasVegas\",\"LosAngeles\",\n",
    "          \"Louisville\",\"MiamiFtLauderdale\",\"Nashville\",\"NewOrleansMobile\",\"NewYork\",\"NorthernNewEngland\",\n",
    "          \"Orlando\",\"Philadelphia\",\"PhoenixTucson\",\"Pittsburgh\",\"Plains\",\"Portland\",\"RaleighGreensboro\",\"RichmondNorfolk\",\n",
    "          \"Roanoke\",\"Sacramento\",\"SanDiego\",\"SanFrancisco\",\"Seattle\",\"SouthCarolina\",\"Spokane\",\"StLouis\",\"Syracuse\",\n",
    "          \"Tampa\",\"WestTexNewMexico\"]\n",
    "demands = [\"Madison\",\"Chicago\"]\n",
    "result = model_results[\"B\"]\n",
    "nzstates = []\n",
    "for i in 1:48\n",
    "    if sum(result[i,:]) != 0\n",
    "        append!(nzstates, i)\n",
    "    end\n",
    "end\n",
    "NamedArray(result[nzstates,:], (sources[nzstates], demands), (\"SUPPLY\", \"DEMAND\"))"
   ]
  },
  {
   "cell_type": "markdown",
   "metadata": {},
   "source": [
    "By utilizing a larger range of suppliers, we should hope to see a decrease in the total import cost. The resulting total cost is **29,836 dollars**. This is unexpected as the cost is higher than all the limited supply cases in part A, which does not fit with what we observed so far by relaxing constraints. Furthermore, as with **A.i**, the low avocado price per pound in Houston (3.49 dollars) and Dallas (3.6 dollars) caused them to be more cost effective suppliers compared to nearer supplier locations such as Chicago (5.2 dollars)."
   ]
  },
  {
   "cell_type": "markdown",
   "metadata": {},
   "source": [
    "<img src=\"image/B.png\" style=\"width:650px; height:400px\">\n",
    "<div style=' text-align: center;'><strong>Route from all 48 suppliers to 2 restaurants</strong></div>"
   ]
  },
  {
   "cell_type": "markdown",
   "metadata": {},
   "source": [
    "### 5.C. Two restuarants from all suppliers with time constraint ###"
   ]
  },
  {
   "cell_type": "code",
   "execution_count": 37,
   "metadata": {},
   "outputs": [
    {
     "name": "stdout",
     "output_type": "stream",
     "text": [
      "13×6 DataFrame\n",
      "│ Row │ Week    │ CincinnatiDayton │ DallasFtWorth │ Denver  │ Houston │\n",
      "│     │ \u001b[90mFloat64\u001b[39m │ \u001b[90mFloat64\u001b[39m          │ \u001b[90mFloat64\u001b[39m       │ \u001b[90mFloat64\u001b[39m │ \u001b[90mFloat64\u001b[39m │\n",
      "├─────┼─────────┼──────────────────┼───────────────┼─────────┼─────────┤\n",
      "│ 1   │ 2.0     │ 0.0              │ 0.0           │ 1000.0  │ 1000.0  │\n",
      "│ 2   │ 7.0     │ 1000.0           │ 0.0           │ 0.0     │ 1000.0  │\n",
      "│ 3   │ 9.0     │ 1000.0           │ 0.0           │ 0.0     │ 0.0     │\n",
      "│ 4   │ 15.0    │ 0.0              │ 1000.0        │ 0.0     │ 1000.0  │\n",
      "│ 5   │ 18.0    │ 0.0              │ 0.0           │ 1000.0  │ 1000.0  │\n",
      "│ 6   │ 22.0    │ 0.0              │ 1000.0        │ 0.0     │ 1000.0  │\n",
      "│ 7   │ 27.0    │ 0.0              │ 1000.0        │ 0.0     │ 1000.0  │\n",
      "│ 8   │ 30.0    │ 0.0              │ 1000.0        │ 0.0     │ 1000.0  │\n",
      "│ 9   │ 33.0    │ 0.0              │ 1000.0        │ 0.0     │ 1000.0  │\n",
      "│ 10  │ 37.0    │ 0.0              │ 1000.0        │ 0.0     │ 1000.0  │\n",
      "│ 11  │ 41.0    │ 0.0              │ 1000.0        │ 0.0     │ 1000.0  │\n",
      "│ 12  │ 48.0    │ 0.0              │ 1000.0        │ 0.0     │ 1000.0  │\n",
      "│ 13  │ 52.0    │ 0.0              │ 1000.0        │ 0.0     │ 1000.0  │\n",
      "\n",
      "│ Row │ LosAngeles │\n",
      "│     │ \u001b[90mFloat64\u001b[39m    │\n",
      "├─────┼────────────┤\n",
      "│ 1   │ 0.0        │\n",
      "│ 2   │ 0.0        │\n",
      "│ 3   │ 1000.0     │\n",
      "│ 4   │ 0.0        │\n",
      "│ 5   │ 0.0        │\n",
      "│ 6   │ 0.0        │\n",
      "│ 7   │ 0.0        │\n",
      "│ 8   │ 0.0        │\n",
      "│ 9   │ 0.0        │\n",
      "│ 10  │ 0.0        │\n",
      "│ 11  │ 0.0        │\n",
      "│ 12  │ 0.0        │\n",
      "│ 13  │ 0.0        │"
     ]
    }
   ],
   "source": [
    "# Display the result\n",
    "# Transportation schedule for restaurant in Madison\n",
    "result = model_results[\"C_mad\"]\n",
    "weeks = [i for i in 1:52]\n",
    "nzweeks = []\n",
    "for i in 1:52\n",
    "    if sum(result[i,:]) != 0\n",
    "        append!(nzweeks, i)\n",
    "    end\n",
    "end\n",
    "nzstatesIndx = []\n",
    "for j in 1:48\n",
    "    if sum(result[:,j]) != 0\n",
    "        append!(nzstatesIndx, j)\n",
    "    end\n",
    "end\n",
    "df = DataFrame(hcat(weeks,result[:,nzstatesIndx]))\n",
    "rename!(df, vcat(\"Week\", sources[nzstatesIndx]))\n",
    "showall(df[nzweeks,:])"
   ]
  },
  {
   "cell_type": "markdown",
   "metadata": {},
   "source": [
    "Below is the map of transportation route from all 48 suppliers to restaurant in Madison, Wisconsin. It shows all transportation routes from all weeks."
   ]
  },
  {
   "cell_type": "markdown",
   "metadata": {},
   "source": [
    "<img src=\"image/C-w.png\" style=\"width:650px; height:400px\">\n",
    "<div style=' text-align: center;'><strong>Route from all 48 suppliers to restaurant in Madison, Wisconsin</strong></div>"
   ]
  },
  {
   "cell_type": "code",
   "execution_count": 38,
   "metadata": {},
   "outputs": [
    {
     "name": "stdout",
     "output_type": "stream",
     "text": [
      "13×10 DataFrame\n",
      "│ Row │ Week    │ CincinnatiDayton │ DallasFtWorth │ Denver  │ Houston │\n",
      "│     │ \u001b[90mFloat64\u001b[39m │ \u001b[90mFloat64\u001b[39m          │ \u001b[90mFloat64\u001b[39m       │ \u001b[90mFloat64\u001b[39m │ \u001b[90mFloat64\u001b[39m │\n",
      "├─────┼─────────┼──────────────────┼───────────────┼─────────┼─────────┤\n",
      "│ 1   │ 2.0     │ 0.0              │ 0.0           │ 1000.0  │ 1000.0  │\n",
      "│ 2   │ 5.0     │ 1000.0           │ 0.0           │ 0.0     │ 1000.0  │\n",
      "│ 3   │ 9.0     │ 1000.0           │ 0.0           │ 0.0     │ 1000.0  │\n",
      "│ 4   │ 14.0    │ 0.0              │ 1000.0        │ 0.0     │ 1000.0  │\n",
      "│ 5   │ 19.0    │ 0.0              │ 0.0           │ 1000.0  │ 1000.0  │\n",
      "│ 6   │ 21.0    │ 0.0              │ 1000.0        │ 0.0     │ 1000.0  │\n",
      "│ 7   │ 27.0    │ 0.0              │ 1000.0        │ 0.0     │ 1000.0  │\n",
      "│ 8   │ 29.0    │ 0.0              │ 1000.0        │ 0.0     │ 1000.0  │\n",
      "│ 9   │ 33.0    │ 0.0              │ 1000.0        │ 0.0     │ 1000.0  │\n",
      "│ 10  │ 37.0    │ 0.0              │ 1000.0        │ 0.0     │ 1000.0  │\n",
      "│ 11  │ 41.0    │ 0.0              │ 1000.0        │ 0.0     │ 1000.0  │\n",
      "│ 12  │ 48.0    │ 1000.0           │ 1000.0        │ 0.0     │ 1000.0  │\n",
      "│ 13  │ 52.0    │ 0.0              │ 1000.0        │ 0.0     │ 1000.0  │\n",
      "\n",
      "│ Row │ LosAngeles │ Nashville │ PhoenixTucson │ Portland │ Roanoke │\n",
      "│     │ \u001b[90mFloat64\u001b[39m    │ \u001b[90mFloat64\u001b[39m   │ \u001b[90mFloat64\u001b[39m       │ \u001b[90mFloat64\u001b[39m  │ \u001b[90mFloat64\u001b[39m │\n",
      "├─────┼────────────┼───────────┼───────────────┼──────────┼─────────┤\n",
      "│ 1   │ 1000.0     │ 0.0       │ 0.0           │ 0.0      │ 0.0     │\n",
      "│ 2   │ 1000.0     │ 0.0       │ 0.0           │ 0.0      │ 0.0     │\n",
      "│ 3   │ 1000.0     │ 0.0       │ 0.0           │ 0.0      │ 0.0     │\n",
      "│ 4   │ 0.0        │ 0.0       │ 1000.0        │ 0.0      │ 0.0     │\n",
      "│ 5   │ 0.0        │ 1000.0    │ 0.0           │ 0.0      │ 0.0     │\n",
      "│ 6   │ 0.0        │ 0.0       │ 0.0           │ 0.0      │ 1000.0  │\n",
      "│ 7   │ 0.0        │ 1000.0    │ 0.0           │ 0.0      │ 0.0     │\n",
      "│ 8   │ 0.0        │ 1000.0    │ 0.0           │ 0.0      │ 0.0     │\n",
      "│ 9   │ 0.0        │ 1000.0    │ 0.0           │ 0.0      │ 0.0     │\n",
      "│ 10  │ 0.0        │ 1000.0    │ 0.0           │ 0.0      │ 0.0     │\n",
      "│ 11  │ 0.0        │ 0.0       │ 0.0           │ 0.0      │ 1000.0  │\n",
      "│ 12  │ 0.0        │ 0.0       │ 0.0           │ 0.0      │ 0.0     │\n",
      "│ 13  │ 0.0        │ 0.0       │ 0.0           │ 1000.0   │ 0.0     │"
     ]
    }
   ],
   "source": [
    "# Display the result\n",
    "# Transportation schedule for restaurant in Chicago\n",
    "result = model_results[\"C_chi\"]\n",
    "weeks = [i for i in 1:52]\n",
    "nzweeks = []\n",
    "for i in 1:52\n",
    "    if sum(result[i,:]) != 0\n",
    "        append!(nzweeks, i)\n",
    "    end\n",
    "end\n",
    "nzstatesIndx = []\n",
    "for j in 1:48\n",
    "    if sum(result[:,j]) != 0\n",
    "        append!(nzstatesIndx, j)\n",
    "    end\n",
    "end\n",
    "df = DataFrame(hcat(weeks,result[:,nzstatesIndx]))\n",
    "rename!(df, vcat(\"Week\", sources[nzstatesIndx]))\n",
    "showall(df[nzweeks,:])"
   ]
  },
  {
   "cell_type": "markdown",
   "metadata": {},
   "source": [
    "Below is the map of transportation route from all 48 suppliers to restaurant in Chicago, Illinois. It shows all transportation routes from all weeks."
   ]
  },
  {
   "cell_type": "markdown",
   "metadata": {},
   "source": [
    "<img src=\"image/C-c.png\" style=\"width:650px; height:400px\">\n",
    "<div style=' text-align: center;'><strong>Route from all 48 suppliers to restaurant in Chicago, Illinois</strong></div>"
   ]
  },
  {
   "cell_type": "markdown",
   "metadata": {},
   "source": [
    "The program is able to provide the client with an optimal biweekly supply schedule for both restaurant locations. In both restaurant schedules, Houston is the most utilized supplier, followed by Dallas-Fort Worth. This is expected as both these suppliers have very low avocado prices that compensate for the long distance between them and the restaurants. The total annual cost of supplying both restaurants is **227,358.5 dollars**, which translates to a monthly average cost of **18,946.54 dollars**. \n",
    "\n",
    "The average monthly cost is significantly lower than the cost calculated in part A. By utilizing the weekly avocado price, the optimization model can take into account the market price fluctuations, hence lowering the total cost incurred on the client."
   ]
  },
  {
   "cell_type": "markdown",
   "metadata": {},
   "source": [
    "### 5.D. Optimal restaurant locations ###\n",
    "\n",
    "#### 5.D.i Choose two restuarants from eight suppliers"
   ]
  },
  {
   "cell_type": "code",
   "execution_count": 39,
   "metadata": {},
   "outputs": [
    {
     "data": {
      "text/plain": [
       "8×2 Named Array{Float64,2}\n",
       "  SUPPLY ╲ DEMAND │ Chicago  Detroit\n",
       "──────────────────┼─────────────────\n",
       "Chicago           │     0.0      0.0\n",
       "St Louis          │  1000.0   1000.0\n",
       "Indianapolis      │     0.0      0.0\n",
       "Louisville        │  1000.0   1000.0\n",
       "Columbus          │     0.0      0.0\n",
       "Cincinnati Dayton │     0.0      0.0\n",
       "Grand Rapids      │     0.0      0.0\n",
       "Detroit           │     0.0      0.0"
      ]
     },
     "execution_count": 39,
     "metadata": {},
     "output_type": "execute_result"
    }
   ],
   "source": [
    "# Display the result\n",
    "sources = [\"Chicago\",\"St Louis\",\"Indianapolis\",\"Louisville\",\"Columbus\",\"Cincinnati Dayton\",\"Grand Rapids\",\"Detroit\"]\n",
    "demands = [\"Chicago\",\"St Louis\",\"Indianapolis\",\"Louisville\",\"Columbus\",\"Cincinnati Dayton\",\"Grand Rapids\",\"Detroit\"]\n",
    "result = model_results[\"Opt_2r8s_noLimit\"]\n",
    "nzdemand = []\n",
    "for j in 1:8\n",
    "    if sum(result[:,j]) != 0\n",
    "        append!(nzdemand, j)\n",
    "    end\n",
    "end\n",
    "NamedArray(result[:,nzdemand], (sources, demands[nzdemand]), (\"SUPPLY\", \"DEMAND\"))"
   ]
  },
  {
   "cell_type": "markdown",
   "metadata": {},
   "source": [
    "If one can select from only 8 possible locations, **Chicago and Detroit** would be the best locations to open restaurants that minimize the total cost."
   ]
  },
  {
   "cell_type": "markdown",
   "metadata": {},
   "source": [
    "#### 5.D.ii Choose two restuarants from all suppliers"
   ]
  },
  {
   "cell_type": "code",
   "execution_count": 40,
   "metadata": {},
   "outputs": [
    {
     "data": {
      "text/plain": [
       "2×2 Named Array{Float64,2}\n",
       "SUPPLY ╲ DEMAND │           Albany  WestTexNewMexico\n",
       "────────────────┼───────────────────────────────────\n",
       "DallasFtWorth   │           1000.0            1000.0\n",
       "Houston         │           1000.0            1000.0"
      ]
     },
     "execution_count": 40,
     "metadata": {},
     "output_type": "execute_result"
    }
   ],
   "source": [
    "# Display the result\n",
    "sources = [\"Albany\",\"Atlanta\",\"BaltimoreWashington\",\"Boise\",\"Boston\",\"BuffaloRochester\",\"California\",\"Charlotte\",\n",
    "          \"Chicago\",\"CincinnatiDayton\",\"Columbus\",\"DallasFtWorth\",\"Denver\",\"Detroit\",\"GrandRapids\",\"GreatLakes\",\n",
    "          \"HarrisburgScranton\",\"HartfordSpringfield\",\"Houston\",\"Indianapolis\",\"Jacksonville\",\"LasVegas\",\"LosAngeles\",\n",
    "          \"Louisville\",\"MiamiFtLauderdale\",\"Nashville\",\"NewOrleansMobile\",\"NewYork\",\"NorthernNewEngland\",\n",
    "          \"Orlando\",\"Philadelphia\",\"PhoenixTucson\",\"Pittsburgh\",\"Plains\",\"Portland\",\"RaleighGreensboro\",\"RichmondNorfolk\",\n",
    "          \"Roanoke\",\"Sacramento\",\"SanDiego\",\"SanFrancisco\",\"Seattle\",\"SouthCarolina\",\"Spokane\",\"StLouis\",\"Syracuse\",\n",
    "          \"Tampa\",\"WestTexNewMexico\"]\n",
    "demands = [\"Albany\",\"Atlanta\",\"BaltimoreWashington\",\"Boise\",\"Boston\",\"BuffaloRochester\",\"California\",\"Charlotte\",\n",
    "          \"Chicago\",\"CincinnatiDayton\",\"Columbus\",\"DallasFtWorth\",\"Denver\",\"Detroit\",\"GrandRapids\",\"GreatLakes\",\n",
    "          \"HarrisburgScranton\",\"HartfordSpringfield\",\"Houston\",\"Indianapolis\",\"Jacksonville\",\"LasVegas\",\"LosAngeles\",\n",
    "          \"Louisville\",\"MiamiFtLauderdale\",\"Nashville\",\"NewOrleansMobile\",\"NewYork\",\"NorthernNewEngland\",\n",
    "          \"Orlando\",\"Philadelphia\",\"PhoenixTucson\",\"Pittsburgh\",\"Plains\",\"Portland\",\"RaleighGreensboro\",\"RichmondNorfolk\",\n",
    "          \"Roanoke\",\"Sacramento\",\"SanDiego\",\"SanFrancisco\",\"Seattle\",\"SouthCarolina\",\"Spokane\",\"StLouis\",\"Syracuse\",\n",
    "          \"Tampa\",\"WestTexNewMexico\"]\n",
    "\n",
    "result = model_results[\"Opt_2r48s_noLimit\"]\n",
    "nzsupply = []\n",
    "nzdemand = []\n",
    "for i in 1:48\n",
    "    if sum(result[i,:]) != 0\n",
    "        append!(nzsupply, i)\n",
    "    end\n",
    "    if sum(result[:,i]) != 0\n",
    "        append!(nzdemand, i)\n",
    "    end\n",
    "end\n",
    "NamedArray(result[nzsupply,nzdemand], (sources[nzsupply], demands[nzdemand]), (\"SUPPLY\", \"DEMAND\"))"
   ]
  },
  {
   "cell_type": "markdown",
   "metadata": {},
   "source": [
    "If one can select from all 48 possible locations, **Albany and WestTex-NewMexico** would be the best locations to open restaurants that minimize the total cost."
   ]
  },
  {
   "cell_type": "markdown",
   "metadata": {},
   "source": [
    "## 6. Conclusion ##\n",
    "\n",
    "### 6.A. Summary of findings ###\n",
    "\n",
    "This project is successful in providing a client that opens two restaurants, one in Madison, Wisconsin and the other in Chicago, Illinois, with a set of avocado supplier combinations corresponding to several iterations with increasing complexity, such that the client can minimize the total cost, including the cost of transportation and the cost of buying avocados. \n",
    "\n",
    "In the first iteration, we restrict the suppliers from nearby states and play around with different supplier capacities. In the second iteration, we no longer restrict supplier locations and allow imports from restaurants all over the states. In the third iteration, we add the time constraint and assume that both restaurants need to import at least once per month, making the project more realistic and applicable to real-time clients. In the last iteration, we provide some recommendations to the client about where to open the two restaurants, if the locations are not decided yet.\n",
    "\n",
    "In all the problem settings, the problem is modeled as a minimum cost network flow problem. The data values used to solve the optimization problems are adapted from a dataset consisting of avocado price averages and sales volume in multiple US markets. \n",
    "\n",
    "By solving the optimization problems, we found that it is more cost effective for the client to import produce from a supplier that is further away but has lower avocado price, compared to a nearer location with a higher average avocado price per pound. Furthermore, when supplier stock limits are introduced, the optimization model found it cheaper to import the entirety of a supplier’s stock to a single restaurant location rather than splitting the supply between two restaurant locations. \n",
    "\n",
    "### 6.B. Limitations ###\n",
    "\n",
    "This project is based solely on a single dataset from Kaggle; thus, the data could be biased and not general enough. The number of avocado suppliers in the dataset are not complete, as we only consider 48 suppliers across the states.\n",
    "\n",
    "In addition, this project calculates the transportation cost by multiplying distance and the average fuel price per mile. When calculating the distance between any two locations, we use the longitude and latitude coordinates and apply the Haversine forumula to calculate the distance in miles. However, this formula only calculates the straight distance between two locations and does not account for any realistic routes. For instance, highways usually contain curves, and there might exist lakes or rivers between two locations that cars cannot directly cross over. The Haversine distance is too ideal and can only be seen as an approximation of the real-life distance.\n",
    "\n",
    "### 6.C. Future directions ###\n",
    "\n",
    "One possible step is to find a larger dataset that contains more information about different avocado suppliers and the corresponding average price. \n",
    "\n",
    "Another future step that our team considers is to account for realistic routes when calculating the distance between any two locations. For instance, Google Maps always gives real-life route betweeen any two locations under modes of transportation. This can make the approximation of distance more accurate but could cost a lot more time.\n",
    "\n",
    "Finally, although our team creates different variations of this problem, the scale of the project still greatly simplifies the issue of supply chains by ignoring many real-life complexities. For instance, we only consider the transpotation cost and avocado cost when calculating total cost. Some other costs that appear in real-life include sales taxes, long term contract benefits, etc. These costs can be accounted for in the future to make the project more realistic."
   ]
  }
 ],
 "metadata": {
  "kernelspec": {
   "display_name": "Python 2",
   "language": "python",
   "name": "python2"
  },
  "language_info": {
   "codemirror_mode": {
    "name": "ipython",
    "version": 2
   },
   "file_extension": ".py",
   "mimetype": "text/x-python",
   "name": "python",
   "nbconvert_exporter": "python",
   "pygments_lexer": "ipython2",
   "version": "2.7.10"
  }
 },
 "nbformat": 4,
 "nbformat_minor": 2
}
